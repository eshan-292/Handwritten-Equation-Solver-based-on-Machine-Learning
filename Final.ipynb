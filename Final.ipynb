{
 "cells": [
  {
   "cell_type": "markdown",
   "metadata": {},
   "source": [
    "# PART1 -> CLASSIFICATION TO PREFIX POSTFIX INFIX(MODEL)"
   ]
  },
  {
   "cell_type": "code",
   "execution_count": 60,
   "metadata": {},
   "outputs": [
    {
     "name": "stdout",
     "output_type": "stream",
     "text": [
      "Found 45000 validated image filenames belonging to 3 classes.\n",
      "Found 5000 validated image filenames belonging to 3 classes.\n",
      "Epoch 1/10\n",
      "450/450 [==============================] - 139s 309ms/step - loss: 0.5118 - accuracy: 0.7440 - val_loss: 34.3288 - val_accuracy: 0.8962\n",
      "Epoch 2/10\n",
      "163/450 [=========>....................] - ETA: 1:13 - loss: 0.2459 - accuracy: 0.8963"
     ]
    },
    {
     "ename": "KeyboardInterrupt",
     "evalue": "",
     "output_type": "error",
     "traceback": [
      "\u001b[1;31m---------------------------------------------------------------------------\u001b[0m",
      "\u001b[1;31mKeyboardInterrupt\u001b[0m                         Traceback (most recent call last)",
      "\u001b[1;32m<ipython-input-60-6de37111f7c9>\u001b[0m in \u001b[0;36m<module>\u001b[1;34m\u001b[0m\n\u001b[0;32m     57\u001b[0m \u001b[1;33m\u001b[0m\u001b[0m\n\u001b[0;32m     58\u001b[0m \u001b[1;31m# FITTING THE MODEL WITH TRAINING SET AND PREDICTING ACCURACY ON TEST SET\u001b[0m\u001b[1;33m\u001b[0m\u001b[1;33m\u001b[0m\u001b[1;33m\u001b[0m\u001b[0m\n\u001b[1;32m---> 59\u001b[1;33m \u001b[0mcnn\u001b[0m\u001b[1;33m.\u001b[0m\u001b[0mfit\u001b[0m\u001b[1;33m(\u001b[0m\u001b[0mx\u001b[0m \u001b[1;33m=\u001b[0m \u001b[0mtrain_data\u001b[0m\u001b[1;33m,\u001b[0m\u001b[0mvalidation_data\u001b[0m\u001b[1;33m=\u001b[0m\u001b[0mtest_data\u001b[0m\u001b[1;33m,\u001b[0m \u001b[0mepochs\u001b[0m \u001b[1;33m=\u001b[0m \u001b[1;36m10\u001b[0m\u001b[1;33m)\u001b[0m\u001b[1;33m\u001b[0m\u001b[1;33m\u001b[0m\u001b[0m\n\u001b[0m",
      "\u001b[1;32mD:\\Anaconda\\lib\\site-packages\\tensorflow\\python\\keras\\engine\\training.py\u001b[0m in \u001b[0;36mfit\u001b[1;34m(self, x, y, batch_size, epochs, verbose, callbacks, validation_split, validation_data, shuffle, class_weight, sample_weight, initial_epoch, steps_per_epoch, validation_steps, validation_batch_size, validation_freq, max_queue_size, workers, use_multiprocessing)\u001b[0m\n\u001b[0;32m   1181\u001b[0m                 _r=1):\n\u001b[0;32m   1182\u001b[0m               \u001b[0mcallbacks\u001b[0m\u001b[1;33m.\u001b[0m\u001b[0mon_train_batch_begin\u001b[0m\u001b[1;33m(\u001b[0m\u001b[0mstep\u001b[0m\u001b[1;33m)\u001b[0m\u001b[1;33m\u001b[0m\u001b[1;33m\u001b[0m\u001b[0m\n\u001b[1;32m-> 1183\u001b[1;33m               \u001b[0mtmp_logs\u001b[0m \u001b[1;33m=\u001b[0m \u001b[0mself\u001b[0m\u001b[1;33m.\u001b[0m\u001b[0mtrain_function\u001b[0m\u001b[1;33m(\u001b[0m\u001b[0miterator\u001b[0m\u001b[1;33m)\u001b[0m\u001b[1;33m\u001b[0m\u001b[1;33m\u001b[0m\u001b[0m\n\u001b[0m\u001b[0;32m   1184\u001b[0m               \u001b[1;32mif\u001b[0m \u001b[0mdata_handler\u001b[0m\u001b[1;33m.\u001b[0m\u001b[0mshould_sync\u001b[0m\u001b[1;33m:\u001b[0m\u001b[1;33m\u001b[0m\u001b[1;33m\u001b[0m\u001b[0m\n\u001b[0;32m   1185\u001b[0m                 \u001b[0mcontext\u001b[0m\u001b[1;33m.\u001b[0m\u001b[0masync_wait\u001b[0m\u001b[1;33m(\u001b[0m\u001b[1;33m)\u001b[0m\u001b[1;33m\u001b[0m\u001b[1;33m\u001b[0m\u001b[0m\n",
      "\u001b[1;32mD:\\Anaconda\\lib\\site-packages\\tensorflow\\python\\eager\\def_function.py\u001b[0m in \u001b[0;36m__call__\u001b[1;34m(self, *args, **kwds)\u001b[0m\n\u001b[0;32m    887\u001b[0m \u001b[1;33m\u001b[0m\u001b[0m\n\u001b[0;32m    888\u001b[0m       \u001b[1;32mwith\u001b[0m \u001b[0mOptionalXlaContext\u001b[0m\u001b[1;33m(\u001b[0m\u001b[0mself\u001b[0m\u001b[1;33m.\u001b[0m\u001b[0m_jit_compile\u001b[0m\u001b[1;33m)\u001b[0m\u001b[1;33m:\u001b[0m\u001b[1;33m\u001b[0m\u001b[1;33m\u001b[0m\u001b[0m\n\u001b[1;32m--> 889\u001b[1;33m         \u001b[0mresult\u001b[0m \u001b[1;33m=\u001b[0m \u001b[0mself\u001b[0m\u001b[1;33m.\u001b[0m\u001b[0m_call\u001b[0m\u001b[1;33m(\u001b[0m\u001b[1;33m*\u001b[0m\u001b[0margs\u001b[0m\u001b[1;33m,\u001b[0m \u001b[1;33m**\u001b[0m\u001b[0mkwds\u001b[0m\u001b[1;33m)\u001b[0m\u001b[1;33m\u001b[0m\u001b[1;33m\u001b[0m\u001b[0m\n\u001b[0m\u001b[0;32m    890\u001b[0m \u001b[1;33m\u001b[0m\u001b[0m\n\u001b[0;32m    891\u001b[0m       \u001b[0mnew_tracing_count\u001b[0m \u001b[1;33m=\u001b[0m \u001b[0mself\u001b[0m\u001b[1;33m.\u001b[0m\u001b[0mexperimental_get_tracing_count\u001b[0m\u001b[1;33m(\u001b[0m\u001b[1;33m)\u001b[0m\u001b[1;33m\u001b[0m\u001b[1;33m\u001b[0m\u001b[0m\n",
      "\u001b[1;32mD:\\Anaconda\\lib\\site-packages\\tensorflow\\python\\eager\\def_function.py\u001b[0m in \u001b[0;36m_call\u001b[1;34m(self, *args, **kwds)\u001b[0m\n\u001b[0;32m    915\u001b[0m       \u001b[1;31m# In this case we have created variables on the first call, so we run the\u001b[0m\u001b[1;33m\u001b[0m\u001b[1;33m\u001b[0m\u001b[1;33m\u001b[0m\u001b[0m\n\u001b[0;32m    916\u001b[0m       \u001b[1;31m# defunned version which is guaranteed to never create variables.\u001b[0m\u001b[1;33m\u001b[0m\u001b[1;33m\u001b[0m\u001b[1;33m\u001b[0m\u001b[0m\n\u001b[1;32m--> 917\u001b[1;33m       \u001b[1;32mreturn\u001b[0m \u001b[0mself\u001b[0m\u001b[1;33m.\u001b[0m\u001b[0m_stateless_fn\u001b[0m\u001b[1;33m(\u001b[0m\u001b[1;33m*\u001b[0m\u001b[0margs\u001b[0m\u001b[1;33m,\u001b[0m \u001b[1;33m**\u001b[0m\u001b[0mkwds\u001b[0m\u001b[1;33m)\u001b[0m  \u001b[1;31m# pylint: disable=not-callable\u001b[0m\u001b[1;33m\u001b[0m\u001b[1;33m\u001b[0m\u001b[0m\n\u001b[0m\u001b[0;32m    918\u001b[0m     \u001b[1;32melif\u001b[0m \u001b[0mself\u001b[0m\u001b[1;33m.\u001b[0m\u001b[0m_stateful_fn\u001b[0m \u001b[1;32mis\u001b[0m \u001b[1;32mnot\u001b[0m \u001b[1;32mNone\u001b[0m\u001b[1;33m:\u001b[0m\u001b[1;33m\u001b[0m\u001b[1;33m\u001b[0m\u001b[0m\n\u001b[0;32m    919\u001b[0m       \u001b[1;31m# Release the lock early so that multiple threads can perform the call\u001b[0m\u001b[1;33m\u001b[0m\u001b[1;33m\u001b[0m\u001b[1;33m\u001b[0m\u001b[0m\n",
      "\u001b[1;32mD:\\Anaconda\\lib\\site-packages\\tensorflow\\python\\eager\\function.py\u001b[0m in \u001b[0;36m__call__\u001b[1;34m(self, *args, **kwargs)\u001b[0m\n\u001b[0;32m   3021\u001b[0m       (graph_function,\n\u001b[0;32m   3022\u001b[0m        filtered_flat_args) = self._maybe_define_function(args, kwargs)\n\u001b[1;32m-> 3023\u001b[1;33m     return graph_function._call_flat(\n\u001b[0m\u001b[0;32m   3024\u001b[0m         filtered_flat_args, captured_inputs=graph_function.captured_inputs)  # pylint: disable=protected-access\n\u001b[0;32m   3025\u001b[0m \u001b[1;33m\u001b[0m\u001b[0m\n",
      "\u001b[1;32mD:\\Anaconda\\lib\\site-packages\\tensorflow\\python\\eager\\function.py\u001b[0m in \u001b[0;36m_call_flat\u001b[1;34m(self, args, captured_inputs, cancellation_manager)\u001b[0m\n\u001b[0;32m   1958\u001b[0m         and executing_eagerly):\n\u001b[0;32m   1959\u001b[0m       \u001b[1;31m# No tape is watching; skip to running the function.\u001b[0m\u001b[1;33m\u001b[0m\u001b[1;33m\u001b[0m\u001b[1;33m\u001b[0m\u001b[0m\n\u001b[1;32m-> 1960\u001b[1;33m       return self._build_call_outputs(self._inference_function.call(\n\u001b[0m\u001b[0;32m   1961\u001b[0m           ctx, args, cancellation_manager=cancellation_manager))\n\u001b[0;32m   1962\u001b[0m     forward_backward = self._select_forward_and_backward_functions(\n",
      "\u001b[1;32mD:\\Anaconda\\lib\\site-packages\\tensorflow\\python\\eager\\function.py\u001b[0m in \u001b[0;36mcall\u001b[1;34m(self, ctx, args, cancellation_manager)\u001b[0m\n\u001b[0;32m    589\u001b[0m       \u001b[1;32mwith\u001b[0m \u001b[0m_InterpolateFunctionError\u001b[0m\u001b[1;33m(\u001b[0m\u001b[0mself\u001b[0m\u001b[1;33m)\u001b[0m\u001b[1;33m:\u001b[0m\u001b[1;33m\u001b[0m\u001b[1;33m\u001b[0m\u001b[0m\n\u001b[0;32m    590\u001b[0m         \u001b[1;32mif\u001b[0m \u001b[0mcancellation_manager\u001b[0m \u001b[1;32mis\u001b[0m \u001b[1;32mNone\u001b[0m\u001b[1;33m:\u001b[0m\u001b[1;33m\u001b[0m\u001b[1;33m\u001b[0m\u001b[0m\n\u001b[1;32m--> 591\u001b[1;33m           outputs = execute.execute(\n\u001b[0m\u001b[0;32m    592\u001b[0m               \u001b[0mstr\u001b[0m\u001b[1;33m(\u001b[0m\u001b[0mself\u001b[0m\u001b[1;33m.\u001b[0m\u001b[0msignature\u001b[0m\u001b[1;33m.\u001b[0m\u001b[0mname\u001b[0m\u001b[1;33m)\u001b[0m\u001b[1;33m,\u001b[0m\u001b[1;33m\u001b[0m\u001b[1;33m\u001b[0m\u001b[0m\n\u001b[0;32m    593\u001b[0m               \u001b[0mnum_outputs\u001b[0m\u001b[1;33m=\u001b[0m\u001b[0mself\u001b[0m\u001b[1;33m.\u001b[0m\u001b[0m_num_outputs\u001b[0m\u001b[1;33m,\u001b[0m\u001b[1;33m\u001b[0m\u001b[1;33m\u001b[0m\u001b[0m\n",
      "\u001b[1;32mD:\\Anaconda\\lib\\site-packages\\tensorflow\\python\\eager\\execute.py\u001b[0m in \u001b[0;36mquick_execute\u001b[1;34m(op_name, num_outputs, inputs, attrs, ctx, name)\u001b[0m\n\u001b[0;32m     57\u001b[0m   \u001b[1;32mtry\u001b[0m\u001b[1;33m:\u001b[0m\u001b[1;33m\u001b[0m\u001b[1;33m\u001b[0m\u001b[0m\n\u001b[0;32m     58\u001b[0m     \u001b[0mctx\u001b[0m\u001b[1;33m.\u001b[0m\u001b[0mensure_initialized\u001b[0m\u001b[1;33m(\u001b[0m\u001b[1;33m)\u001b[0m\u001b[1;33m\u001b[0m\u001b[1;33m\u001b[0m\u001b[0m\n\u001b[1;32m---> 59\u001b[1;33m     tensors = pywrap_tfe.TFE_Py_Execute(ctx._handle, device_name, op_name,\n\u001b[0m\u001b[0;32m     60\u001b[0m                                         inputs, attrs, num_outputs)\n\u001b[0;32m     61\u001b[0m   \u001b[1;32mexcept\u001b[0m \u001b[0mcore\u001b[0m\u001b[1;33m.\u001b[0m\u001b[0m_NotOkStatusException\u001b[0m \u001b[1;32mas\u001b[0m \u001b[0me\u001b[0m\u001b[1;33m:\u001b[0m\u001b[1;33m\u001b[0m\u001b[1;33m\u001b[0m\u001b[0m\n",
      "\u001b[1;31mKeyboardInterrupt\u001b[0m: "
     ]
    }
   ],
   "source": [
    "#PART 1\n",
    "\n",
    "#IMPORTING THE LIBRARIES\n",
    "import pandas as pd\n",
    "import numpy as np\n",
    "import matplotlib.pyplot as plt\n",
    "#READING THE DATA AND SPLITTING THE CSV FILE\n",
    "train = pd.read_csv('annotations.csv').iloc[0:45000,:]\n",
    "test = pd.read_csv('annotations.csv').iloc[45000:,:]\n",
    "# IMPORTING LIBRARIES FOR CNN\n",
    "import tensorflow as tf\n",
    "import tensorflow.keras as keras\n",
    "from tensorflow.keras.preprocessing.image import ImageDataGenerator\n",
    "from keras import backend as K\n",
    "#K.set_image_dim_ordering('th')\n",
    "K.set_image_data_format(\"channels_first\")\n",
    "# TO CONVERT IMAGES TO TENSOR\n",
    "train_datagen = ImageDataGenerator(rescale = 1./255,\n",
    "                                   \n",
    "                                   \n",
    "                                   shear_range = 0.2,\n",
    "                                   zoom_range = 0.2,\n",
    "                                   horizontal_flip = True)\n",
    "\n",
    "test_gen = ImageDataGenerator(rescale = 1.255)\n",
    "train_data = train_datagen.flow_from_dataframe(dataframe = train, \n",
    "directory = 'data/training_set', x_col = 'Image', \n",
    "y_col = 'Label', seed = 42,\n",
    "batch_size = 100, shuffle = True, \n",
    "class_mode=\"categorical\",target_size = (64, 64),color_mode='grayscale')\n",
    "\n",
    "test_data = test_gen.flow_from_dataframe(dataframe = test, \n",
    "directory = 'data/test_set', x_col = 'Image', \n",
    "y_col ='Label',\n",
    "batch_size = 100, shuffle = True, \n",
    "class_mode=\"categorical\",target_size = (64, 64),color_mode='grayscale')\n",
    "\n",
    "# CREATING AN OBJECT OF SEQUENTIAL CLASS\n",
    "cnn = tf.keras.models.Sequential()\n",
    "\n",
    "# ADDING CONVULUTION LAYERS\n",
    "cnn.add(tf.keras.layers.Conv2D(filters=32, kernel_size=3, activation='relu', input_shape=[64, 64, 1]))\n",
    "\n",
    "#POOLING\n",
    "cnn.add(tf.keras.layers.MaxPool2D(pool_size=2, strides=2))\n",
    "#ADDING MORE LAYERS\n",
    "cnn.add(tf.keras.layers.Conv2D(filters=32, kernel_size=3, activation='relu'))\n",
    "cnn.add(tf.keras.layers.MaxPool2D(pool_size=2, strides=2))\n",
    "\n",
    "#FLATTENING \n",
    "cnn.add(tf.keras.layers.Flatten())\n",
    "cnn.add(tf.keras.layers.Dense(units=128, activation='relu'))\n",
    "# ADDING OUTPUT LAYER\n",
    "cnn.add(tf.keras.layers.Dense(units=3, activation='softmax'))\n",
    "\n",
    "#COMPILING VARIOUS LAYERS\n",
    "cnn.compile(optimizer = 'adam',loss = 'categorical_crossentropy', metrics = ['accuracy'])\n",
    "\n",
    "# FITTING THE MODEL WITH TRAINING SET AND PREDICTING ACCURACY ON TEST SET\n",
    "cnn.fit(x = train_data,validation_data=test_data, epochs = 10)"
   ]
  },
  {
   "cell_type": "code",
   "execution_count": 7,
   "metadata": {},
   "outputs": [],
   "source": [
    "dataset = pd.read_csv('annotations.csv').iloc[:,1].values"
   ]
  },
  {
   "cell_type": "code",
   "execution_count": 11,
   "metadata": {},
   "outputs": [],
   "source": [
    "import numpy as np\n",
    "from keras.preprocessing import image\n",
    "results = []\n",
    "test_size = 100\n",
    "value = \"\"\n",
    "correct = 0\n",
    "n = test_size\n",
    "for i in range (1,n+1):\n",
    "        test_image = image.load_img(\"data/test_set/\"+str(i+45000)+\".jpg\", target_size = (64, 64),color_mode = 'grayscale')\n",
    "#        test_image.show()\n",
    "        test_image = image.img_to_array(test_image)\n",
    "        test_image = np.expand_dims(test_image, axis = -1)\n",
    "        #PREDCITING ON FIRST PART\n",
    "        result = cnn.predict(test_image)\n",
    "        if result[0][0]==1:\n",
    "            value = \"infix\"\n",
    "        elif result[0][1]==1:\n",
    "            value = \"postfix\"\n",
    "        else:\n",
    "            value = \"prefix\"\n",
    "        if value==dataset[45000+i-1]:\n",
    "            correct+=1\n",
    "        results.append(value)\n",
    "    "
   ]
  },
  {
   "cell_type": "code",
   "execution_count": 12,
   "metadata": {},
   "outputs": [
    {
     "name": "stdout",
     "output_type": "stream",
     "text": [
      "0.96\n"
     ]
    }
   ],
   "source": [
    "accuracy = correct/n\n",
    "print(accuracy)"
   ]
  },
  {
   "cell_type": "code",
   "execution_count": 13,
   "metadata": {},
   "outputs": [
    {
     "name": "stdout",
     "output_type": "stream",
     "text": [
      "['infix', 'infix', 'prefix', 'infix', 'prefix', 'postfix', 'prefix', 'postfix', 'postfix', 'postfix', 'infix', 'infix', 'infix', 'prefix', 'prefix', 'postfix', 'prefix', 'postfix', 'prefix', 'infix', 'prefix', 'postfix', 'postfix', 'prefix', 'prefix', 'prefix', 'prefix', 'postfix', 'prefix', 'prefix', 'prefix', 'infix', 'postfix', 'postfix', 'postfix', 'prefix', 'prefix', 'postfix', 'infix', 'infix', 'prefix', 'postfix', 'infix', 'postfix', 'infix', 'prefix', 'postfix', 'infix', 'infix', 'prefix', 'prefix', 'prefix', 'infix', 'prefix', 'postfix', 'infix', 'infix', 'postfix', 'prefix', 'infix', 'prefix', 'postfix', 'prefix', 'infix', 'infix', 'prefix', 'postfix', 'postfix', 'prefix', 'postfix', 'postfix', 'infix', 'prefix', 'prefix', 'infix', 'postfix', 'postfix', 'postfix', 'infix', 'prefix', 'infix', 'postfix', 'prefix', 'prefix', 'infix', 'infix', 'postfix', 'infix', 'infix', 'infix', 'postfix', 'postfix', 'postfix', 'infix', 'prefix', 'prefix', 'postfix', 'prefix', 'postfix', 'infix']\n"
     ]
    }
   ],
   "source": [
    "print(results)"
   ]
  },
  {
   "cell_type": "code",
   "execution_count": 14,
   "metadata": {},
   "outputs": [],
   "source": [
    "array_2d= np.column_stack((results,dataset[45000:45000+n]))"
   ]
  },
  {
   "cell_type": "code",
   "execution_count": 15,
   "metadata": {},
   "outputs": [],
   "source": [
    "import pandas as pd\n",
    "(pd.DataFrame(array_2d)).to_csv(\"results2.csv\")"
   ]
  },
  {
   "cell_type": "code",
   "execution_count": 16,
   "metadata": {},
   "outputs": [],
   "source": [
    "#SAVING THE MODEL\n",
    "\n",
    "model_json = cnn.to_json()\n",
    "with open(\"model_final_1.json\", \"w\") as json_file:\n",
    "    json_file.write(model_json)\n",
    "# serialize weights to HDF5\n",
    "cnn.save_weights(\"model_final_1.h5\")"
   ]
  },
  {
   "cell_type": "code",
   "execution_count": 18,
   "metadata": {},
   "outputs": [],
   "source": [
    "#lOADING THE SAVED MODEL\n",
    "from keras.models import model_from_json\n",
    "json_file = open('model_final_1.json', 'r')\n",
    "loaded_model_json = json_file.read()\n",
    "json_file.close()\n",
    "loaded_model = model_from_json(loaded_model_json)\n",
    "# load weights into new model\n",
    "loaded_model.load_weights(\"model_final_1.h5\")"
   ]
  },
  {
   "cell_type": "code",
   "execution_count": 19,
   "metadata": {},
   "outputs": [],
   "source": [
    "# Python code to demonstrate the use of 'sys' module\n",
    "# for command line arguments\n",
    "  \n",
    "import sys\n",
    "  \n",
    "# command line arguments are stored in the form\n",
    "# of list in sys.argv\n",
    "argumentList = sys.argv\n",
    "#print argumentList\n",
    "  \n",
    "# Print the name of file\n",
    "#print sys.argv[0]\n",
    "  \n",
    "# Print the first argument after the name of file\n",
    "testfolder_path=sys.argv[1]"
   ]
  },
  {
   "cell_type": "markdown",
   "metadata": {},
   "source": [
    "# PART 2"
   ]
  },
  {
   "cell_type": "code",
   "execution_count": null,
   "metadata": {},
   "outputs": [],
   "source": [
    "import numpy as np\n",
    "import cv2\n",
    "from PIL import Image\n",
    "from matplotlib import pyplot as plt\n",
    "%matplotlib inline\n",
    "import os\n",
    "from os import listdir\n",
    "from os.path import isfile, join\n",
    "import pandas as pd"
   ]
  },
  {
   "cell_type": "markdown",
   "metadata": {},
   "source": [
    "# IMPORTING LIBRARIES FOR FUTURE USE AND IMAGE MODIFICATION"
   ]
  },
  {
   "cell_type": "code",
   "execution_count": null,
   "metadata": {},
   "outputs": [],
   "source": [
    "np.random.seed(1212)\n",
    "\n",
    "import keras\n",
    "from keras.models import Model\n",
    "from keras.layers import *\n",
    "from keras import optimizers\n",
    "from keras.layers import Input, Dense\n",
    "from keras.models import Sequential\n",
    "from keras.layers import Dense\n",
    "from keras.layers import Dropout\n",
    "from keras.layers import Flatten\n",
    "from keras.layers.convolutional import Conv2D\n",
    "from keras.layers.convolutional import MaxPooling2D\n",
    "from keras.utils import np_utils\n",
    "from keras import backend as K\n",
    "#K.set_image_dim_ordering('th')\n",
    "K.set_image_data_format(\"channels_first\")\n"
   ]
  },
  {
   "cell_type": "markdown",
   "metadata": {},
   "source": [
    "# SPLITTING THE IMAGES"
   ]
  },
  {
   "cell_type": "markdown",
   "metadata": {},
   "source": [
    "# MANUAL LABELLING OF AROUND 3300 IMAGES"
   ]
  },
  {
   "cell_type": "markdown",
   "metadata": {},
   "source": [
    "# GENERATING TRAINING SET FROM SPLITTED IMAGES(RECOGNISING ALL 14 CHARACTERS(10 DIGITS AND 4 OPERATORS))"
   ]
  },
  {
   "cell_type": "code",
   "execution_count": 62,
   "metadata": {},
   "outputs": [
    {
     "name": "stdout",
     "output_type": "stream",
     "text": [
      "Found 8050 images belonging to 14 classes.\n"
     ]
    }
   ],
   "source": [
    "import numpy as np\n",
    "import keras\n",
    "from keras.models import Sequential\n",
    "from keras.layers import Dense\n",
    "from keras.utils import np_utils\n",
    "import tensorflow as tf\n",
    "import tensorflow.keras as keras\n",
    "from tensorflow.keras.preprocessing.image import ImageDataGenerator\n",
    "\n",
    "train_datagen = ImageDataGenerator(rescale = 1./255,\n",
    "                                   shear_range = 0.2,\n",
    "                                   zoom_range = 0.2,\n",
    "                                   horizontal_flip = True)\n",
    "training_set = train_datagen.flow_from_directory(directory='NEW/',\n",
    "                                    \n",
    "                                                 target_size = (64, 64),\n",
    "                                                 batch_size = 50,\n",
    "                                                 class_mode = \"categorical\",color_mode = 'grayscale')"
   ]
  },
  {
   "cell_type": "markdown",
   "metadata": {},
   "source": [
    "# CREATING THE VARIOUS LAYERS AND TRAINING THE MODEL ON TRAINING SET"
   ]
  },
  {
   "cell_type": "code",
   "execution_count": 63,
   "metadata": {},
   "outputs": [
    {
     "name": "stdout",
     "output_type": "stream",
     "text": [
      "Epoch 1/50\n",
      "161/161 [==============================] - 29s 177ms/step - loss: 1.4294 - accuracy: 0.5466 - val_loss: 0.7087 - val_accuracy: 0.7826\n",
      "Epoch 2/50\n",
      "161/161 [==============================] - 28s 177ms/step - loss: 0.5982 - accuracy: 0.8183 - val_loss: 0.4347 - val_accuracy: 0.8673\n",
      "Epoch 3/50\n",
      "161/161 [==============================] - 29s 180ms/step - loss: 0.4094 - accuracy: 0.8724 - val_loss: 0.3130 - val_accuracy: 0.8998\n",
      "Epoch 4/50\n",
      "161/161 [==============================] - 29s 179ms/step - loss: 0.3208 - accuracy: 0.9011 - val_loss: 0.2761 - val_accuracy: 0.9181\n",
      "Epoch 5/50\n",
      "161/161 [==============================] - 30s 189ms/step - loss: 0.2693 - accuracy: 0.9163 - val_loss: 0.2343 - val_accuracy: 0.9272\n",
      "Epoch 6/50\n",
      "161/161 [==============================] - 29s 183ms/step - loss: 0.2273 - accuracy: 0.9320 - val_loss: 0.1872 - val_accuracy: 0.9461\n",
      "Epoch 7/50\n",
      "161/161 [==============================] - 30s 185ms/step - loss: 0.1947 - accuracy: 0.9374 - val_loss: 0.1635 - val_accuracy: 0.9491\n",
      "Epoch 8/50\n",
      "161/161 [==============================] - 28s 175ms/step - loss: 0.1701 - accuracy: 0.9484 - val_loss: 0.1402 - val_accuracy: 0.9584\n",
      "Epoch 9/50\n",
      "161/161 [==============================] - 28s 175ms/step - loss: 0.1530 - accuracy: 0.9516 - val_loss: 0.1170 - val_accuracy: 0.9656\n",
      "Epoch 10/50\n",
      "161/161 [==============================] - 29s 183ms/step - loss: 0.1226 - accuracy: 0.9630 - val_loss: 0.0963 - val_accuracy: 0.9707\n",
      "Epoch 11/50\n",
      "161/161 [==============================] - 28s 177ms/step - loss: 0.1187 - accuracy: 0.9636 - val_loss: 0.0893 - val_accuracy: 0.9765\n",
      "Epoch 12/50\n",
      "161/161 [==============================] - 29s 179ms/step - loss: 0.1106 - accuracy: 0.9657 - val_loss: 0.0960 - val_accuracy: 0.9699\n",
      "Epoch 13/50\n",
      "161/161 [==============================] - 31s 195ms/step - loss: 0.1021 - accuracy: 0.9684 - val_loss: 0.0887 - val_accuracy: 0.9730\n",
      "Epoch 14/50\n",
      "161/161 [==============================] - 31s 194ms/step - loss: 0.0854 - accuracy: 0.9723 - val_loss: 0.0809 - val_accuracy: 0.9760\n",
      "Epoch 15/50\n",
      "161/161 [==============================] - 34s 212ms/step - loss: 0.0878 - accuracy: 0.9727 - val_loss: 0.0714 - val_accuracy: 0.9793\n",
      "Epoch 16/50\n",
      "161/161 [==============================] - 34s 214ms/step - loss: 0.0864 - accuracy: 0.9745 - val_loss: 0.0692 - val_accuracy: 0.9769\n",
      "Epoch 17/50\n",
      "161/161 [==============================] - 31s 194ms/step - loss: 0.0759 - accuracy: 0.9774 - val_loss: 0.0696 - val_accuracy: 0.9791\n",
      "Epoch 18/50\n",
      "161/161 [==============================] - 34s 209ms/step - loss: 0.0718 - accuracy: 0.9765 - val_loss: 0.0690 - val_accuracy: 0.9775\n",
      "Epoch 19/50\n",
      "161/161 [==============================] - 31s 191ms/step - loss: 0.0640 - accuracy: 0.9791 - val_loss: 0.0584 - val_accuracy: 0.9821\n",
      "Epoch 20/50\n",
      "161/161 [==============================] - 31s 195ms/step - loss: 0.0564 - accuracy: 0.9826 - val_loss: 0.0575 - val_accuracy: 0.9829\n",
      "Epoch 21/50\n",
      "161/161 [==============================] - 29s 179ms/step - loss: 0.0571 - accuracy: 0.9830 - val_loss: 0.0528 - val_accuracy: 0.9839\n",
      "Epoch 22/50\n",
      "161/161 [==============================] - 30s 183ms/step - loss: 0.0503 - accuracy: 0.9846 - val_loss: 0.0439 - val_accuracy: 0.9855\n",
      "Epoch 23/50\n",
      "161/161 [==============================] - 31s 195ms/step - loss: 0.0637 - accuracy: 0.9815 - val_loss: 0.0773 - val_accuracy: 0.9719\n",
      "Epoch 24/50\n",
      "161/161 [==============================] - 30s 186ms/step - loss: 0.0570 - accuracy: 0.9840 - val_loss: 0.0472 - val_accuracy: 0.9845\n",
      "Epoch 25/50\n",
      "161/161 [==============================] - 29s 181ms/step - loss: 0.0564 - accuracy: 0.9832 - val_loss: 0.0500 - val_accuracy: 0.9855\n",
      "Epoch 26/50\n",
      "161/161 [==============================] - 29s 178ms/step - loss: 0.0465 - accuracy: 0.9870 - val_loss: 0.0717 - val_accuracy: 0.9759\n",
      "Epoch 27/50\n",
      "161/161 [==============================] - 29s 180ms/step - loss: 0.0426 - accuracy: 0.9863 - val_loss: 0.0332 - val_accuracy: 0.9898\n",
      "Epoch 28/50\n",
      "161/161 [==============================] - 29s 181ms/step - loss: 0.0435 - accuracy: 0.9866 - val_loss: 0.0418 - val_accuracy: 0.9855\n",
      "Epoch 29/50\n",
      "161/161 [==============================] - 29s 183ms/step - loss: 0.0432 - accuracy: 0.9873 - val_loss: 0.0584 - val_accuracy: 0.9810\n",
      "Epoch 30/50\n",
      "161/161 [==============================] - 30s 184ms/step - loss: 0.0430 - accuracy: 0.9872 - val_loss: 0.0470 - val_accuracy: 0.9852\n",
      "Epoch 31/50\n",
      "161/161 [==============================] - 29s 182ms/step - loss: 0.0453 - accuracy: 0.9858 - val_loss: 0.0436 - val_accuracy: 0.9857\n",
      "Epoch 32/50\n",
      "161/161 [==============================] - 29s 180ms/step - loss: 0.0427 - accuracy: 0.9868 - val_loss: 0.0393 - val_accuracy: 0.9875\n",
      "Epoch 33/50\n",
      "161/161 [==============================] - 30s 185ms/step - loss: 0.0465 - accuracy: 0.9867 - val_loss: 0.0402 - val_accuracy: 0.9884\n",
      "Epoch 34/50\n",
      "161/161 [==============================] - 29s 179ms/step - loss: 0.0361 - accuracy: 0.9896 - val_loss: 0.0436 - val_accuracy: 0.9853\n",
      "Epoch 35/50\n",
      "161/161 [==============================] - 29s 181ms/step - loss: 0.0354 - accuracy: 0.9901 - val_loss: 0.0491 - val_accuracy: 0.9853\n",
      "Epoch 36/50\n",
      "161/161 [==============================] - 30s 185ms/step - loss: 0.0310 - accuracy: 0.9897 - val_loss: 0.0226 - val_accuracy: 0.9934\n",
      "Epoch 37/50\n",
      "161/161 [==============================] - 31s 190ms/step - loss: 0.0344 - accuracy: 0.9906 - val_loss: 0.0249 - val_accuracy: 0.9932\n",
      "Epoch 38/50\n",
      "161/161 [==============================] - 29s 181ms/step - loss: 0.0267 - accuracy: 0.9918 - val_loss: 0.0243 - val_accuracy: 0.9933\n",
      "Epoch 39/50\n",
      "161/161 [==============================] - 31s 194ms/step - loss: 0.0298 - accuracy: 0.9913 - val_loss: 0.0264 - val_accuracy: 0.9909\n",
      "Epoch 40/50\n",
      "161/161 [==============================] - 30s 184ms/step - loss: 0.0370 - accuracy: 0.9884 - val_loss: 0.0226 - val_accuracy: 0.9932\n",
      "Epoch 41/50\n",
      "161/161 [==============================] - 29s 179ms/step - loss: 0.0234 - accuracy: 0.9934 - val_loss: 0.0381 - val_accuracy: 0.9868\n",
      "Epoch 42/50\n",
      "161/161 [==============================] - 30s 184ms/step - loss: 0.0298 - accuracy: 0.9909 - val_loss: 0.0259 - val_accuracy: 0.9916\n",
      "Epoch 43/50\n",
      "161/161 [==============================] - 29s 179ms/step - loss: 0.0305 - accuracy: 0.9911 - val_loss: 0.0328 - val_accuracy: 0.9893\n",
      "Epoch 44/50\n",
      "161/161 [==============================] - 29s 179ms/step - loss: 0.0329 - accuracy: 0.9893 - val_loss: 0.0250 - val_accuracy: 0.9922\n",
      "Epoch 45/50\n",
      "161/161 [==============================] - 30s 186ms/step - loss: 0.0308 - accuracy: 0.9913 - val_loss: 0.0193 - val_accuracy: 0.9947\n",
      "Epoch 46/50\n",
      "161/161 [==============================] - 30s 184ms/step - loss: 0.0195 - accuracy: 0.9937 - val_loss: 0.0273 - val_accuracy: 0.9924\n",
      "Epoch 47/50\n",
      "161/161 [==============================] - 29s 180ms/step - loss: 0.0345 - accuracy: 0.9892 - val_loss: 0.0716 - val_accuracy: 0.9784\n",
      "Epoch 48/50\n",
      "161/161 [==============================] - 30s 189ms/step - loss: 0.0402 - accuracy: 0.9868 - val_loss: 0.0227 - val_accuracy: 0.9920\n",
      "Epoch 49/50\n",
      "161/161 [==============================] - 28s 175ms/step - loss: 0.0236 - accuracy: 0.9929 - val_loss: 0.0184 - val_accuracy: 0.9947\n",
      "Epoch 50/50\n",
      "161/161 [==============================] - 28s 174ms/step - loss: 0.0236 - accuracy: 0.9922 - val_loss: 0.0265 - val_accuracy: 0.9909\n"
     ]
    },
    {
     "data": {
      "text/plain": [
       "<tensorflow.python.keras.callbacks.History at 0x1c5517358e0>"
      ]
     },
     "execution_count": 63,
     "metadata": {},
     "output_type": "execute_result"
    }
   ],
   "source": [
    "cnn2 = tf.keras.models.Sequential()\n",
    "\n",
    "cnn2.add(tf.keras.layers.Conv2D(filters=32, kernel_size=3, activation='relu', input_shape=[64, 64, 1]))\n",
    "\n",
    "cnn2.add(tf.keras.layers.MaxPool2D(pool_size=2, strides=2))\n",
    "\n",
    "cnn2.add(tf.keras.layers.Conv2D(filters=32, kernel_size=3, activation='relu'))\n",
    "cnn2.add(tf.keras.layers.MaxPool2D(pool_size=2, strides=2))\n",
    "cnn2.add(tf.keras.layers.Conv2D(filters=32, kernel_size=3, activation='relu'))\n",
    "cnn2.add(tf.keras.layers.MaxPool2D(pool_size=2, strides=2))\n",
    "\n",
    "cnn2.add(tf.keras.layers.Flatten())\n",
    "\n",
    "cnn2.add(tf.keras.layers.Dense(units=200, activation='relu'))\n",
    "\n",
    "cnn2.add(tf.keras.layers.Dense(units=14, activation='softmax'))\n",
    "\n",
    "cnn2.compile(optimizer = 'adam',loss = 'categorical_crossentropy', metrics = ['accuracy'])\n",
    "\n",
    "cnn2.fit(x = training_set,validation_data=training_set, epochs = 50)"
   ]
  },
  {
   "cell_type": "markdown",
   "metadata": {},
   "source": [
    "# LABELS OF VARIUOS DIGITS AND OPERATORS"
   ]
  },
  {
   "cell_type": "code",
   "execution_count": 64,
   "metadata": {
    "scrolled": false
   },
   "outputs": [
    {
     "data": {
      "text/plain": [
       "{'+': 0,\n",
       " '-': 1,\n",
       " '0': 2,\n",
       " '1': 3,\n",
       " '2': 4,\n",
       " '3': 5,\n",
       " '4': 6,\n",
       " '5': 7,\n",
       " '6': 8,\n",
       " '7': 9,\n",
       " '8': 10,\n",
       " '9': 11,\n",
       " 'divide': 12,\n",
       " 'multiply': 13}"
      ]
     },
     "execution_count": 64,
     "metadata": {},
     "output_type": "execute_result"
    }
   ],
   "source": [
    "training_set.class_indices"
   ]
  },
  {
   "cell_type": "markdown",
   "metadata": {},
   "source": [
    "# TESTING THE MODEL ON A SINGLE PREDICTION"
   ]
  },
  {
   "cell_type": "code",
   "execution_count": 65,
   "metadata": {},
   "outputs": [
    {
     "name": "stdout",
     "output_type": "stream",
     "text": [
      "[[0. 0. 0. 0. 0. 0. 0. 1. 0. 0. 0. 0. 0. 0.]]\n"
     ]
    }
   ],
   "source": [
    "import numpy as np\n",
    "from keras.preprocessing import image\n",
    "test_image = image.load_img('im120.jpg', target_size = (64, 64),color_mode = 'grayscale')\n",
    "test_image.show()\n",
    "test_image = image.img_to_array(test_image)\n",
    "test_image = np.expand_dims(test_image, axis = -1)\n",
    "result = cnn2.predict(test_image)\n",
    "print(result)"
   ]
  },
  {
   "cell_type": "markdown",
   "metadata": {},
   "source": [
    "# SAVING THE MODEL"
   ]
  },
  {
   "cell_type": "code",
   "execution_count": 66,
   "metadata": {},
   "outputs": [],
   "source": [
    "model_json = cnn2.to_json()\n",
    "with open(\"model_final_2.json\", \"w\") as json_file:\n",
    "    json_file.write(model_json)\n",
    "# serialize weights to HDF5\n",
    "cnn2.save_weights(\"model_final_2.h5\")\n",
    "\n"
   ]
  },
  {
   "cell_type": "markdown",
   "metadata": {},
   "source": [
    "# TESTING THE MODEL\n"
   ]
  },
  {
   "cell_type": "code",
   "execution_count": 67,
   "metadata": {},
   "outputs": [],
   "source": [
    "#lOADING THE SAVED MODEL\n",
    "json_file = open('model_final_2.json', 'r')\n",
    "loaded_model_json = json_file.read()\n",
    "json_file.close()\n",
    "cnn2 = model_from_json(loaded_model_json)\n",
    "# load weights into new model\n",
    "cnn2.load_weights(\"model_final_2.h5\")"
   ]
  },
  {
   "cell_type": "markdown",
   "metadata": {},
   "source": [
    "# PREDICTING THE MODEL ON SOME OF THE LAST 5000(NON SPLITTED) IMAGES OF THE TEST SET"
   ]
  },
  {
   "cell_type": "code",
   "execution_count": 68,
   "metadata": {},
   "outputs": [],
   "source": [
    "#READING THE VALUES OF THE DATASET\n",
    "dataset = pd.read_csv('annotations.csv').iloc[:,2].values\n"
   ]
  },
  {
   "cell_type": "code",
   "execution_count": 69,
   "metadata": {},
   "outputs": [
    {
     "data": {
      "text/plain": [
       "array([ 7,  0, 21, ...,  1,  2, -2], dtype=int64)"
      ]
     },
     "execution_count": 69,
     "metadata": {},
     "output_type": "execute_result"
    }
   ],
   "source": [
    "dataset"
   ]
  },
  {
   "cell_type": "code",
   "execution_count": 31,
   "metadata": {},
   "outputs": [],
   "source": [
    "# Python code to demonstrate the use of 'sys' module\n",
    "# for command line arguments\n",
    "  \n",
    "import sys\n",
    "  \n",
    "# command line arguments are stored in the form\n",
    "# of list in sys.argv\n",
    "argumentList = sys.argv\n",
    "#print argumentList\n",
    "  \n",
    "# Print the name of file\n",
    "#print sys.argv[0]\n",
    "  \n",
    "# Print the first argument after the name of file\n",
    "testfolder_path=sys.argv[1]"
   ]
  },
  {
   "cell_type": "markdown",
   "metadata": {},
   "source": [
    "# FUNCTION TO SPLIT THE IMAGES OF TEST SET AND THEN PREDICT OUTPUT ON EACH INDIVIDUAL IMAGE AND COMBINE TO GENERATE FINAL VALUE"
   ]
  },
  {
   "cell_type": "code",
   "execution_count": 79,
   "metadata": {},
   "outputs": [],
   "source": [
    "from PIL import Image,ImageOps\n",
    "import cv2\n",
    "import numpy as np\n",
    "import os\n",
    "\n",
    "correct=0\n",
    "new_results =[]\n",
    "# GET DIGIT FUNCTION TO GET INDICE CORRESPONDING TO THE DIGIT\n",
    "def get_digit(arr):\n",
    "    for i in range(0,len(arr)):\n",
    "        if arr[i]==1:\n",
    "            return i\n",
    "    return 0\n",
    "\n",
    "# TEST SIZE \n",
    "test_size = 1000\n",
    "n = test_size #should be less than 5000\n",
    "# FOR EVERY IMAGE IN TEST_SET \n",
    "for i in range(1,n+1):\n",
    "# for filename in os.listdir(testfolder_path):\n",
    "#         im = cv2.imread(os.path.join(folder,filename))\n",
    "\n",
    " \n",
    "    # Opens a image in RGB mode\n",
    "        im = Image.open('data/test_set'+\"/\"+str(i+45000)+\".jpg\")\n",
    "        im = ImageOps.grayscale(im)\n",
    "#         im.show()\n",
    "\n",
    "        # Size of the image in pixels (size of original image)\n",
    "        # (This is not mandatory)\n",
    "        width, height = im.size\n",
    "\n",
    "        # Setting the points for cropped image\n",
    "        left = 0\n",
    "        top = 0\n",
    "        right = width/3\n",
    "        bottom = height\n",
    "        # Cropped image of above dimension\n",
    "        # (It will not change original image)\n",
    "        im1 = im.crop((left, top, right, bottom))\n",
    "        im1.save('im1'+str(i)+'.jpg')\n",
    "        test_image = image.load_img('im1'+str(i)+'.jpg', target_size = (64, 64),color_mode = 'grayscale')\n",
    "#         test_image.show()\n",
    "        test_image = image.img_to_array(test_image)\n",
    "        test_image = np.expand_dims(test_image, axis = -1)\n",
    "        #PREDCITING ON FIRST PART\n",
    "        result1 = cnn2.predict(test_image)\n",
    "#         print(result1)\n",
    "\n",
    "        # Shows the image in image viewer\n",
    "\n",
    "\n",
    "\n",
    "        # Setting the points for cropped image\n",
    "        left = width/3\n",
    "        top = 0\n",
    "        right = 2*width/3\n",
    "        bottom = height\n",
    "\n",
    "        # Cropped image of above dimension\n",
    "        im2 = im.crop((left, top, right, bottom))\n",
    "        im2.save('im2'+str(i)+'.jpg')\n",
    "        test_image = image.load_img('im2'+str(i)+'.jpg', target_size = (64, 64),color_mode = 'grayscale')\n",
    "#         test_image.show()\n",
    "        test_image = image.img_to_array(test_image)\n",
    "        test_image = np.expand_dims(test_image, axis = -1)\n",
    "        \n",
    "        \n",
    "        #PREDICTING ON SECOND PART\n",
    "        result2 = cnn2.predict(test_image)\n",
    "\n",
    "        # Shows the image in image viewer\n",
    "\n",
    "\n",
    "        # Setting the points for cropped image\n",
    "        left = 2*width/3\n",
    "        top = 0\n",
    "        right = width\n",
    "        bottom = height\n",
    "\n",
    "        # Cropped image of above dimension\n",
    "        im3 = im.crop((left, top, right, bottom))\n",
    "        im3.save('im3'+str(i)+'.jpg')\n",
    "        test_image = image.load_img('im3'+str(i)+'.jpg', target_size = (64, 64),color_mode = 'grayscale')\n",
    "        test_image = image.img_to_array(test_image)\n",
    "        test_image = np.expand_dims(test_image, axis = -1)\n",
    "        \n",
    "        \n",
    "        \n",
    "        #PREDICTING ON THIRD PART\n",
    "        result3 = cnn2.predict(test_image)\n",
    "        \n",
    "        # DECIDING WHICH IS OPERATOR AND WHICH IS OPERAND\n",
    "        if result1[0][0]==1 or result1[0][1]==1 or result1[0][12]==1 or result1[0][13]==1:\n",
    "            operator = result1\n",
    "            op1 = get_digit(result2[0]) # GET INDICES CORRESPONDING TO DIGIT\n",
    "            op2 = get_digit(result3[0]) # ACTUAL DIGIT WILL BE INDICE-\n",
    "            # COMPUTE THE VALUE DEPENDING ON THE OPERATOR \n",
    "            if operator[0][0]==1:       \n",
    "                value=float(op1)-2+float(op2)-2\n",
    "            elif operator[0][1]==1:\n",
    "                value = float(op1)-2-(float(op2)-2)\n",
    "            elif operator[0][12]==1:\n",
    "                if(float(op2)-2==0):value=0\n",
    "                    #TO AVOID DIVISION BY ZERO ERROR\n",
    "                else : value = (float(op1)-2)/(float(op2)-2)\n",
    "            elif operator[0][13]==1:\n",
    "                value = (float(op1)-2)*(float(op2)-2)\n",
    "        elif result2[0][0]==1 or result2[0][1]==1 or result2[0][12]==1 or result2[0][13]==1:\n",
    "            operator = result2\n",
    "            op1 = get_digit(result1[0])\n",
    "            op2 = get_digit(result3[0])\n",
    "            if operator[0][0]==1:\n",
    "                value=float(op1)-2+float(op2)-2\n",
    "            elif operator[0][1]==1:\n",
    "                value = float(op1)-2-(float(op2)-2)\n",
    "            elif operator[0][12]==1:\n",
    "                if(float(op2)-2==0):value=0\n",
    "                else : value = (float(op1)-2)/(float(op2)-2)\n",
    "            elif operator[0][13]==1:\n",
    "                value = (float(op1)-2)*(float(op2)-2)\n",
    "        else :\n",
    "            operator = result3\n",
    "            op1 = get_digit(result1[0])\n",
    "            op2 = get_digit(result2[0])\n",
    "            if operator[0][0]==1:\n",
    "                value=float(op1)-2+float(op2)-2\n",
    "            elif operator[0][1]==1:\n",
    "                value = float(op1)-2-(float(op2)-2)\n",
    "            elif operator[0][12]==1:\n",
    "                if(float(op2)-2==0):value=0\n",
    "                else : value = (float(op1)-2)/(float(op2)-2)\n",
    "            elif operator[0][13]==1:\n",
    "                value = (float(op1)-2)*(float(op2)-2)\n",
    "        \n",
    "        # adding the value to list of results \n",
    "        new_results.append(value)\n",
    "         \n",
    "        # counting the no of correct predictions \n",
    "        if dataset[45000+i-1]==value:\n",
    "            correct+=1\n"
   ]
  },
  {
   "cell_type": "code",
   "execution_count": 80,
   "metadata": {},
   "outputs": [],
   "source": [
    "# combining the results(predicted value) with the actual value in 2d array \n",
    "array_2d= np.column_stack((new_results,dataset[45000:45000+n]))"
   ]
  },
  {
   "cell_type": "code",
   "execution_count": 81,
   "metadata": {},
   "outputs": [
    {
     "name": "stdout",
     "output_type": "stream",
     "text": [
      "[[ 1.  1.]\n",
      " [ 4.  4.]\n",
      " [ 6.  6.]\n",
      " ...\n",
      " [18. 18.]\n",
      " [10. 10.]\n",
      " [ 0.  0.]]\n"
     ]
    }
   ],
   "source": [
    "print(array_2d)"
   ]
  },
  {
   "cell_type": "code",
   "execution_count": 82,
   "metadata": {},
   "outputs": [
    {
     "name": "stdout",
     "output_type": "stream",
     "text": [
      "0.887\n"
     ]
    }
   ],
   "source": [
    "#predicting the accuracy\n",
    "accuracy = correct/(n)\n",
    "print(accuracy)"
   ]
  },
  {
   "cell_type": "code",
   "execution_count": null,
   "metadata": {},
   "outputs": [],
   "source": [
    "import matplotlib.pyplot as plt"
   ]
  },
  {
   "cell_type": "code",
   "execution_count": 83,
   "metadata": {},
   "outputs": [
    {
     "data": {
      "text/plain": [
       "<matplotlib.collections.PathCollection at 0x1c556bdd790>"
      ]
     },
     "execution_count": 83,
     "metadata": {},
     "output_type": "execute_result"
    },
    {
     "data": {
      "image/png": "[encoded data removed]",
      "text/plain": [
       "<Figure size 432x288 with 1 Axes>"
      ]
     },
     "metadata": {
      "needs_background": "light"
     },
     "output_type": "display_data"
    }
   ],
   "source": [
    "# plot y=x (orange) with the points corresponing to prediction\n",
    "plt.scatter(array_2d[:,0],array_2d[:,1])\n",
    "plt.scatter(array_2d[:,1],array_2d[:,1])"
   ]
  },
  {
   "cell_type": "code",
   "execution_count": 84,
   "metadata": {},
   "outputs": [],
   "source": [
    "# converting 2d array to dataframe and then converting dataframe to csv\n",
    "import pandas as pd\n",
    "(pd.DataFrame(array_2d)).to_csv(\"Team_Name_2.csv\")"
   ]
  },
  {
   "cell_type": "code",
   "execution_count": null,
   "metadata": {},
   "outputs": [],
   "source": []
  },
  {
   "cell_type": "code",
   "execution_count": null,
   "metadata": {},
   "outputs": [],
   "source": []
  }
 ],
 "metadata": {
  "kernelspec": {
   "display_name": "Python 3",
   "language": "python",
   "name": "python3"
  },
  "language_info": {
   "codemirror_mode": {
    "name": "ipython",
    "version": 3
   },
   "file_extension": ".py",
   "mimetype": "text/x-python",
   "name": "python",
   "nbconvert_exporter": "python",
   "pygments_lexer": "ipython3",
   "version": "3.7.3"
  }
 },
 "nbformat": 4,
 "nbformat_minor": 2
}
